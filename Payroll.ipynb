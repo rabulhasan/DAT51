{
  "nbformat": 4,
  "nbformat_minor": 0,
  "metadata": {
    "colab": {
      "name": "Payroll.ipynb",
      "provenance": [],
      "authorship_tag": "ABX9TyO1OQqaBAfZKqsNSdRd9BR0",
      "include_colab_link": true
    },
    "kernelspec": {
      "name": "python3",
      "display_name": "Python 3"
    },
    "language_info": {
      "name": "python"
    }
  },
  "cells": [
    {
      "cell_type": "markdown",
      "metadata": {
        "id": "view-in-github",
        "colab_type": "text"
      },
      "source": [
        "<a href=\"https://colab.research.google.com/github/rabulhasan/DAT51/blob/main/Python/Payroll.ipynb\" target=\"_parent\"><img src=\"https://colab.research.google.com/assets/colab-badge.svg\" alt=\"Open In Colab\"/></a>"
      ]
    },
    {
      "cell_type": "markdown",
      "metadata": {
        "id": "4udNGyGTKeMo"
      },
      "source": [
        "#         PROGRAM TO PREPARE WEEKLY PAYROLL\n"
      ]
    },
    {
      "cell_type": "code",
      "metadata": {
        "colab": {
          "base_uri": "https://localhost:8080/"
        },
        "id": "bs3NyENjPz4G",
        "outputId": "efa4613a-4e5e-426b-cfc2-82ffbede9bcb"
      },
      "source": [
        "name = input('enter the name here: ')\n",
        "hour = eval(input(\"Enter the hour: \"))\n",
        "rate = eval(input(\"Enter the pay rate here: \"))\n",
        "gross = hour*rate\n",
        "overtime = (40 * rate) + ((hour - 40) * rate * 1.5)\n",
        "if hour <= 40:\n",
        "  print(name+ \"'s gross pay is: \"+ str(gross))\n",
        "elif hour > 40 and hour < 60:\n",
        "  print(name+ \"'s gross pay is: \"+ str(overtime))\n",
        "else:\n",
        "  print(\"you are not allowed to work over 60 hour.\")"
      ],
      "execution_count": 54,
      "outputs": [
        {
          "output_type": "stream",
          "text": [
            "enter the name here: Hasan\n",
            "Enter the hour: 56\n",
            "Enter the pay rate here: 15\n",
            "Hasan's gross pay is: 960.0\n"
          ],
          "name": "stdout"
        }
      ]
    },
    {
      "cell_type": "code",
      "metadata": {
        "id": "s2QzaIexUbDi"
      },
      "source": [
        ""
      ],
      "execution_count": null,
      "outputs": []
    }
  ]
}
