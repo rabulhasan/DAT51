{
  "nbformat": 4,
  "nbformat_minor": 0,
  "metadata": {
    "colab": {
      "name": "student roster.ipynb",
      "provenance": [],
      "authorship_tag": "ABX9TyMXYB/IKzUA6L0AryJcGUwV",
      "include_colab_link": true
    },
    "kernelspec": {
      "name": "python3",
      "display_name": "Python 3"
    },
    "language_info": {
      "name": "python"
    }
  },
  "cells": [
    {
      "cell_type": "markdown",
      "metadata": {
        "id": "view-in-github",
        "colab_type": "text"
      },
      "source": [
        "<a href=\"https://colab.research.google.com/github/rabulhasan/Python/blob/main/Python/student_roster.ipynb\" target=\"_parent\"><img src=\"https://colab.research.google.com/assets/colab-badge.svg\" alt=\"Open In Colab\"/></a>"
      ]
    },
    {
      "cell_type": "code",
      "execution_count": 1,
      "metadata": {
        "colab": {
          "base_uri": "https://localhost:8080/"
        },
        "id": "4MPOFYqXWcNB",
        "outputId": "a42be951-2f06-41ea-acf3-bd707d104ade"
      },
      "outputs": [
        {
          "output_type": "stream",
          "name": "stdout",
          "text": [
            "Enter first name: Rabiul\n",
            "Enter last name: Hasan\n",
            "enter gpa: 4\n",
            "Enter first name: Tunazzina\n",
            "Enter last name: Mehjabin\n",
            "enter gpa: 4\n",
            "Enter first name: Mortuza\n",
            "Enter last name: Iqbal\n",
            "enter gpa: 4\n",
            "FIRST      LAST         GPA\n",
            "Rabiul    Hasan         4.00\n",
            "Tunazzina Mehjabin      4.00\n",
            "Mortuza   Iqbal         4.00\n"
          ]
        }
      ],
      "source": [
        "def addStudents():\n",
        "  'This Function take three students name and GPA, and print the list'\n",
        "  studentlist = []\n",
        "  \n",
        "  while len(studentlist) <3:  \n",
        "    first = input('Enter first name: ')\n",
        "    last = input('Enter last name: ')\n",
        "    gpa = eval(input('enter gpa: '))\n",
        "    studentlist.append([first, last, gpa])\n",
        "  \n",
        "  print('FIRST      LAST         GPA')\n",
        "  for student in studentlist:\n",
        "    print('{:10}{:10}{:8.2f}'.format(student[0],student[1],student[2]))\n",
        "\n",
        "addStudents()"
      ]
    }
  ]
}