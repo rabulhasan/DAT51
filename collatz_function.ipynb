{
  "nbformat": 4,
  "nbformat_minor": 0,
  "metadata": {
    "colab": {
      "name": "collatz_function.ipynb",
      "provenance": [],
      "authorship_tag": "ABX9TyMkmH/Yk1N/Qqq8QPUIC6UA",
      "include_colab_link": true
    },
    "kernelspec": {
      "name": "python3",
      "display_name": "Python 3"
    },
    "language_info": {
      "name": "python"
    }
  },
  "cells": [
    {
      "cell_type": "markdown",
      "metadata": {
        "id": "view-in-github",
        "colab_type": "text"
      },
      "source": [
        "<a href=\"https://colab.research.google.com/github/rabulhasan/Python/blob/main/collatz_function.ipynb\" target=\"_parent\"><img src=\"https://colab.research.google.com/assets/colab-badge.svg\" alt=\"Open In Colab\"/></a>"
      ]
    },
    {
      "cell_type": "code",
      "execution_count": 1,
      "metadata": {
        "colab": {
          "base_uri": "https://localhost:8080/"
        },
        "id": "gJLbdzSAiPxM",
        "outputId": "a0aef00e-5269-4cef-c394-d22b1f1e1d31"
      },
      "outputs": [
        {
          "output_type": "stream",
          "name": "stdout",
          "text": [
            "11\n",
            "34\n",
            "17\n",
            "52\n",
            "26\n",
            "13\n",
            "40\n",
            "20\n",
            "10\n",
            "5\n",
            "16\n",
            "8\n",
            "4\n",
            "2\n",
            "1\n"
          ]
        }
      ],
      "source": [
        "def collatz(x):\n",
        "  print(x)\n",
        "  while x> 1:\n",
        "    if x%2==0:\n",
        "      x= x/2\n",
        "      print(int(x))  \n",
        "    elif x%2!= 0:\n",
        "      x = (3*x)+1\n",
        "      print(int(x)) \n",
        "\n",
        "collatz(11)"
      ]
    }
  ]
}