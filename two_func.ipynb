{
  "nbformat": 4,
  "nbformat_minor": 0,
  "metadata": {
    "colab": {
      "name": "two_func.ipynb",
      "provenance": [],
      "authorship_tag": "ABX9TyOWVdHpAAJJ8pQX63hfJSJv",
      "include_colab_link": true
    },
    "kernelspec": {
      "name": "python3",
      "display_name": "Python 3"
    },
    "language_info": {
      "name": "python"
    }
  },
  "cells": [
    {
      "cell_type": "markdown",
      "metadata": {
        "id": "view-in-github",
        "colab_type": "text"
      },
      "source": [
        "<a href=\"https://colab.research.google.com/github/rabulhasan/Python/blob/main/two_func.ipynb\" target=\"_parent\"><img src=\"https://colab.research.google.com/assets/colab-badge.svg\" alt=\"Open In Colab\"/></a>"
      ]
    },
    {
      "cell_type": "markdown",
      "source": [
        "In the popular game of Scrabble, words are scored based on scores associated with each letter as described below:\n",
        "\n",
        "Letter\tScore\n",
        "a,e,i,o,u,n,r,t,l,s\t1\n",
        "d,g\t2\n",
        "b,c,m,p\t3\n",
        "f,h,v,w,y\t4\n",
        "k\t5\n",
        "j,x\t8\n",
        "q, z\t10\n",
        "Thus, the words 'ant', 'quiz', and 'apple' are scored in the following way:\n",
        "\n",
        "ant = a+n+t = 1 + 1 + 1 = 3\n",
        "\n",
        "quiz = q+u+i+z = 10 + 1 + 1 + 10 = 22\n",
        "\n",
        "apple = a+p+p+l+e = 1 + 3 + 3 + 1 + 1 = 9\n",
        "\n",
        "Design a function that takes in one parameter which will be expected to be a string value containing a single lower-case letter and it will return back the scrabble score for that letter. The definition should begin with:\n",
        "def get_letter_score(l):\n",
        "\n",
        "Here the l paraemter is expected to be a str containing a single lower-case letter. So, if you call the function with 'j', it should return back 8. In other words: get_letter_score('j') should return back 8. Please keep in mind, returning values is not the same thing as printing (displaying) values.\n",
        "\n",
        "Design another function that takes in 7 parameters: l1, l2, l3, l4, l5, l6, and l7 -- each of which can be a single letter str and the function returns the total scrabble score of all the letters. The definition should begin with:\n",
        "def get_word_score(l1,l2,l3,l4,l5,l6,l7):\n",
        "\n",
        "Thus, the function call get_word_score('o','r','c','h','i','d','s') should return 13.\n",
        "\n",
        "Ideally, get_word_score function should make use of get_letter_score function to get its results\n",
        "\n",
        "In the main body of your program call get_word_score function on the 7 letters of your unique word (in lower-case) to get their total scrabble scores and then print the result.\n",
        "Your program should print a single numeric result that is the output from the 3rd step above"
      ],
      "metadata": {
        "id": "KgI0_C2D-7da"
      }
    },
    {
      "cell_type": "code",
      "execution_count": 2,
      "metadata": {
        "colab": {
          "base_uri": "https://localhost:8080/"
        },
        "id": "hycjMf3M-l4k",
        "outputId": "7e871726-6cc5-40a8-ca01-729a22464150"
      },
      "outputs": [
        {
          "output_type": "stream",
          "name": "stdout",
          "text": [
            "13\n"
          ]
        }
      ],
      "source": [
        "def get_letter_score(l):\n",
        "    if l in ['a','e','i','o','u','r','r','t','l','s']:\n",
        "        return 1\n",
        "    elif l in ['d', 'g']:\n",
        "        return 2\n",
        "    elif l in ['b', 'c', 'm', 'p']:\n",
        "        return 3\n",
        "    elif l in ['f', 'h', 'v', 'w', 'y']:\n",
        "        return 4\n",
        "    elif l in ['k']:\n",
        "        return 5\n",
        "    elif l in ['j', 'x']:\n",
        "        return 8\n",
        "    elif l in ['q', 'z']:\n",
        "        return 10\n",
        "    else:\n",
        "        return 0\n",
        "    \n",
        "def get_word_score(l1,l2,l3,l4,l5,l6,l7):\n",
        "    score = get_letter_score(l1)+get_letter_score(l2)+get_letter_score(l3)+get_letter_score(l4)+get_letter_score(l5)+get_letter_score(l6)+get_letter_score(l7)\n",
        "    return score \n",
        "\n",
        "print(get_word_score('o','r','c','h','i','d','s'))"
      ]
    }
  ]
}