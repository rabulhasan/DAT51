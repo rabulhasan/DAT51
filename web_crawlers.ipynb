{
  "nbformat": 4,
  "nbformat_minor": 0,
  "metadata": {
    "colab": {
      "name": "web crawlers.ipynb",
      "provenance": [],
      "authorship_tag": "ABX9TyOaWi5cRyE7CVcb7m1LNHmw",
      "include_colab_link": true
    },
    "kernelspec": {
      "name": "python3",
      "display_name": "Python 3"
    },
    "language_info": {
      "name": "python"
    }
  },
  "cells": [
    {
      "cell_type": "markdown",
      "metadata": {
        "id": "view-in-github",
        "colab_type": "text"
      },
      "source": [
        "<a href=\"https://colab.research.google.com/github/rabulhasan/Python/blob/main/web_crawlers.ipynb\" target=\"_parent\"><img src=\"https://colab.research.google.com/assets/colab-badge.svg\" alt=\"Open In Colab\"/></a>"
      ]
    },
    {
      "cell_type": "code",
      "metadata": {
        "id": "9KMYEd5xOI0p"
      },
      "source": [
        "from urllib.request import urlopen\n",
        "\n",
        "\n"
      ],
      "execution_count": 3,
      "outputs": []
    },
    {
      "cell_type": "code",
      "metadata": {
        "colab": {
          "base_uri": "https://localhost:8080/"
        },
        "id": "d7bQg0tQQUoD",
        "outputId": "103fcd83-77b1-447c-c26b-dc83fa44a8e8"
      },
      "source": [
        "def news(url, topics):\n",
        "    response = urlopen(url)\n",
        "    html = response.read()\n",
        "    content = html.decode().lower()\n",
        "    for topic in topics:\n",
        "        num = content.count(topic)    \n",
        "        print(\"{} appears {} times\".format(topic, num))\n",
        "    return(\"\")\n",
        "print(news(input(\"enter the url: \"),[\"trump\",\"biden\"]))"
      ],
      "execution_count": 8,
      "outputs": [
        {
          "output_type": "stream",
          "name": "stdout",
          "text": [
            "enter the url: https://www.cnn.com/\n",
            "trump appears 13 times\n",
            "biden appears 16 times\n",
            "\n"
          ]
        }
      ]
    }
  ]
}